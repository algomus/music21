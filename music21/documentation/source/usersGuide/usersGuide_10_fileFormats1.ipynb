{
 "metadata": {
  "name": "",
  "signature": "sha256:44f1453026248dfb0d2d83798d597ccdd59ce7f70a9fe4235a149fa102a7c97a"
 },
 "nbformat": 3,
 "nbformat_minor": 0,
 "worksheets": [
  {
   "cells": [
    {
     "cell_type": "code",
     "collapsed": false,
     "input": [
      "# ignore this\n",
      "%load_ext music21.ipython21.ipExtension"
     ],
     "language": "python",
     "metadata": {},
     "outputs": [],
     "prompt_number": 1
    },
    {
     "cell_type": "heading",
     "level": 1,
     "metadata": {},
     "source": [
      "File Formats(1)"
     ]
    },
    {
     "cell_type": "markdown",
     "metadata": {},
     "source": [
      "Music21 can import and export a variety of musical data formats. Many examples\n",
      "of these formats are distributed with music21 as part of the corpus module (see\n",
      ":ref:`moduleCorpus`). \n",
      "\n",
      "The converter module, as well as the module function\n",
      ":func:`music21.converter.parse` handle importing all supported formats. For\n",
      "complete documentation on file and data formats, see :ref:`moduleConverter`."
     ]
    },
    {
     "cell_type": "heading",
     "level": 2,
     "metadata": {},
     "source": [
      "Parsing MusicXML Files"
     ]
    },
    {
     "cell_type": "markdown",
     "metadata": {},
     "source": [
      "We can parse a MusicXML file by providing the :func:`music21.converter.parse`\n",
      "function with a local file path or an URL to a file path. The function will\n",
      "determine the file format. An appropriate :class:`~music21.stream.Stream`  or\n",
      "Stream subclass will be returned. For example, given a MusicXML file stored at\n",
      "the file path \"/Users/cuthbert/_scratch/bwv1007-01.xml\", a Stream can be created\n",
      "from the file with the following."
     ]
    },
    {
     "cell_type": "code",
     "collapsed": false,
     "input": [
      "from music21 import *\n",
      "#_DOCS_SHOW c = converter.parse('/Users/cuthbert/Desktop/myXML.xml')"
     ],
     "language": "python",
     "metadata": {},
     "outputs": [],
     "prompt_number": 4
    },
    {
     "cell_type": "markdown",
     "metadata": {},
     "source": [
      "Alternative, we can provide a URL to the :func:`music21.converter.parse`\n",
      "function that points to the desired file. Assuming proper system configuration\n",
      "(see :ref:`environment`), the file will be downloaded and parsed."
     ]
    },
    {
     "cell_type": "code",
     "collapsed": false,
     "input": [
      "url = 'http://kern.ccarh.org/cgi-bin/ksdata?l=cc/bach/cello&file=bwv1007-01.krn&f=xml'\n",
      "sAlt = converter.parse(url)\n",
      "sAlt[1][:6].show() # show first 5 measures"
     ],
     "language": "python",
     "metadata": {},
     "outputs": [
      {
       "metadata": {},
       "output_type": "pyout",
       "png": "[encoded data removed]",
       "prompt_number": 5,
       "text": [
        "<music21.ipython21.objects.IPythonPNGObject at 0x10a4931d0>"
       ]
      }
     ],
     "prompt_number": 5
    },
    {
     "cell_type": "markdown",
     "metadata": {},
     "source": [
      "Note that presently music21 offers limited support for compressed .mxl MusicXML files; this feature will be expanded in the future."
     ]
    },
    {
     "cell_type": "heading",
     "level": 2,
     "metadata": {},
     "source": [
      "Getting MusicXML Files"
     ]
    },
    {
     "cell_type": "markdown",
     "metadata": {},
     "source": [
      "Numerous MusicXML files can be found at the following URLs.\n",
      "\n",
      "http://kern.ccarh.org\n",
      "http://www.gutenberg.org"
     ]
    },
    {
     "cell_type": "heading",
     "level": 2,
     "metadata": {},
     "source": [
      "Parsing Humdrum Files"
     ]
    },
    {
     "cell_type": "markdown",
     "metadata": {},
     "source": [
      "Parsing Humdrum files is exactly as parsing other data formats. Simply call the music21.converter.parse() function on the desired file path or URL."
     ]
    },
    {
     "cell_type": "code",
     "collapsed": false,
     "input": [
      "sBach = converter.parse('http://kern.ccarh.org/cgi-bin/ksdata?l=users/craig/classical/bach/cello&file=bwv1007-01.krn&f=kern') "
     ],
     "language": "python",
     "metadata": {},
     "outputs": [],
     "prompt_number": 6
    },
    {
     "cell_type": "heading",
     "level": 2,
     "metadata": {},
     "source": [
      "Getting Humdrum Files"
     ]
    },
    {
     "cell_type": "markdown",
     "metadata": {},
     "source": [
      "Over one hundred thousand Kern files can be found at the following URL.\n",
      "\n",
      "http://kern.humdrum.org/"
     ]
    },
    {
     "cell_type": "heading",
     "level": 2,
     "metadata": {},
     "source": [
      "Parsing ABC Files"
     ]
    },
    {
     "cell_type": "markdown",
     "metadata": {},
     "source": [
      "Parsing ABC files is exactly as parsing other data formats. Simply call the\n",
      ":func:`music21.converter.parse` function on the desired file path or URL."
     ]
    },
    {
     "cell_type": "code",
     "collapsed": false,
     "input": [
      "#_DOCS_SHOW o = converter.parse('/Users/cuthbert/Documents/Music21/praludium.abc')"
     ],
     "language": "python",
     "metadata": {},
     "outputs": [],
     "prompt_number": 7
    },
    {
     "cell_type": "markdown",
     "metadata": {},
     "source": [
      "Note that many ABC files define more than one complete musical work. If an ABC\n",
      "file defines more than one work, an :class:`~music21.stream.Opus` object is\n",
      "returned. Opus objects, a Stream subclass, provide convenience methods for\n",
      "accessing multiple Score objects.\n",
      "\n",
      "Reference work numbers (e.g., the \"X:\" metadata tag in ABC) are stored in\n",
      ":class:`~music21.metadata.Metadata` objects in each contained Score. Access to\n",
      "these numbers from the Opus is available with the\n",
      ":meth:`music21.stream.Opus.getNumbers` method. Additionally, the\n",
      ":class:`~music21.stream.Score` object can be directly obtained with the\n",
      ":meth:`~music21.stream.Opus.getScoreByNumber` method."
     ]
    },
    {
     "cell_type": "code",
     "collapsed": false,
     "input": [
      "o = corpus.parse('josquin/ovenusbant')\n",
      "o.getNumbers()"
     ],
     "language": "python",
     "metadata": {},
     "outputs": [
      {
       "metadata": {},
       "output_type": "pyout",
       "prompt_number": 8,
       "text": [
        "['1', '2', '3']"
       ]
      }
     ],
     "prompt_number": 8
    },
    {
     "cell_type": "code",
     "collapsed": false,
     "input": [
      "s = o.getScoreByNumber(2)\n",
      "s.metadata.title"
     ],
     "language": "python",
     "metadata": {},
     "outputs": [
      {
       "metadata": {},
       "output_type": "pyout",
       "prompt_number": 9,
       "text": [
        "'O Venus bant'"
       ]
      }
     ],
     "prompt_number": 9
    },
    {
     "cell_type": "markdown",
     "metadata": {},
     "source": [
      "Direct access to Score objects contained in an Opus by title is available with\n",
      "the :meth:`~music21.stream.Opus.getScoreByTitle` method."
     ]
    },
    {
     "cell_type": "code",
     "collapsed": false,
     "input": [
      "o = corpus.parse('essenFolksong/erk5')\n",
      "s = o.getScoreByTitle('Vrienden, kommt alle gaere')"
     ],
     "language": "python",
     "metadata": {},
     "outputs": [],
     "prompt_number": 10
    },
    {
     "cell_type": "markdown",
     "metadata": {},
     "source": [
      "In some cases an ABC file may define individual parts each as a separate score.\n",
      "When parsed, these parts can be combined from the Opus into a single Score with\n",
      "the :meth:`music21.stream.Opus.mergeScores` method. "
     ]
    },
    {
     "cell_type": "code",
     "collapsed": false,
     "input": [
      "o = corpus.parse('josquin/milleRegrets')\n",
      "s = o.mergeScores()\n",
      "s.metadata.title"
     ],
     "language": "python",
     "metadata": {},
     "outputs": [
      {
       "metadata": {},
       "output_type": "pyout",
       "prompt_number": 11,
       "text": [
        "'Mille regrets'"
       ]
      }
     ],
     "prompt_number": 11
    },
    {
     "cell_type": "code",
     "collapsed": false,
     "input": [
      "len(s.parts)"
     ],
     "language": "python",
     "metadata": {},
     "outputs": [
      {
       "metadata": {},
       "output_type": "pyout",
       "prompt_number": 12,
       "text": [
        "4"
       ]
      }
     ],
     "prompt_number": 12
    },
    {
     "cell_type": "heading",
     "level": 2,
     "metadata": {},
     "source": [
      "Getting ABC Files"
     ]
    },
    {
     "cell_type": "markdown",
     "metadata": {},
     "source": [
      "Large collections of ABC are available from numerous on-line repositories. The\n",
      "following links are just a few of the many resources available. \n",
      "\n",
      "http://abcnotation.com\n",
      "\n",
      "http://www.serpentpublications.org"
     ]
    },
    {
     "cell_type": "heading",
     "level": 2,
     "metadata": {},
     "source": [
      "Parsing Musedata Files"
     ]
    },
    {
     "cell_type": "markdown",
     "metadata": {},
     "source": [
      "Both stage 1 and stage 2 Musedata file formats are supported by Music21.\n",
      "Multi-part Musedata (stage 2) files, zipped archives, and directories\n",
      "containing individual files for each part (stage 1 or stage 2) can be imported\n",
      "with the :func:`music21.converter.parse` function on the desired file path or\n",
      "URL.\n",
      "\n",
      "Note that access restrictions prevent demonstrating Musedata conversion."
     ]
    },
    {
     "cell_type": "heading",
     "level": 2,
     "metadata": {},
     "source": [
      "Parsing MIDI Files"
     ]
    },
    {
     "cell_type": "markdown",
     "metadata": {},
     "source": [
      "MIDI input and output is handled in the same was other formats. Simply call the\n",
      ":func:`music21.converter.parse` function on the desired file path or URL."
     ]
    }
   ],
   "metadata": {}
  }
 ]
}